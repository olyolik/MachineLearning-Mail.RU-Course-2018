{
 "cells": [
  {
   "cell_type": "markdown",
   "metadata": {},
   "source": [
    "# Домашнее задание #3: Ансамбли моделей"
   ]
  },
  {
   "cell_type": "markdown",
   "metadata": {},
   "source": [
    "В этом домашнем задании вам предлагается написать свою реализацию алгоритма градиентного бустинга и применить его для задачи регрессии."
   ]
  },
  {
   "cell_type": "code",
   "execution_count": 1,
   "metadata": {},
   "outputs": [
    {
     "name": "stdout",
     "output_type": "stream",
     "text": [
      "The history saving thread hit an unexpected error (DatabaseError('database disk image is malformed')).History will not be written to the database.\n"
     ]
    }
   ],
   "source": [
    "import tqdm\n",
    "import numpy as np\n",
    "from scipy.special import expit as sigmoid\n",
    "from sklearn.tree import DecisionTreeRegressor\n",
    "from sklearn.base import BaseEstimator\n",
    "from sklearn.model_selection import train_test_split\n",
    "\n",
    "\n",
    "import matplotlib.pyplot as plt\n",
    "%matplotlib inline\n",
    "import seaborn as sns\n",
    "sns.set_style('whitegrid')"
   ]
  },
  {
   "cell_type": "markdown",
   "metadata": {},
   "source": [
    "## Часть 1. Реализация градиентного бустинга"
   ]
  },
  {
   "cell_type": "markdown",
   "metadata": {},
   "source": [
    "Нужно реализовать класс для модели градиентного бустинга на деревьях (3 балла) и вспомогательные классы для функций потерь MSE (1 балл) и BCE (1 балл).\n",
    "\n",
    "За что можно получить дополнительные баллы:\n",
    "- Реализация ранней остановки обучения (1 балл)\n",
    "- Реализация вычисления дополнительной метрики качества на каждой итерации (1 балл)\n",
    "- Реализация бэггинга при обучении отдельных деревьев (1 балл)"
   ]
  },
  {
   "cell_type": "markdown",
   "metadata": {},
   "source": [
    "### 1. Функции потерь"
   ]
  },
  {
   "cell_type": "markdown",
   "metadata": {},
   "source": [
    "Начнем с функций потерь. Нам нужны будут две функции потерь, одна для задачи классификации и одна для задачи регрессии. Для каждой из них напишем отдельный класс, который позволит вычислять как саму функцию потерь, так и ее градиент."
   ]
  },
  {
   "cell_type": "markdown",
   "metadata": {},
   "source": [
    "#### 1.1. Базовый класс Loss"
   ]
  },
  {
   "cell_type": "markdown",
   "metadata": {},
   "source": [
    "Сначала напишем базовый класс `Loss`, от которого будем наследоваться при написании функций потерь.\n",
    "Вычисление значения функции потерь будет производиться в методе `forward`, а градиента - в методе `backward`.\n",
    "\n",
    "Метод `forward` должен получать на вход два вектора: вектор целевых переменных и вектор предсказаний модели.\n",
    "Метод должен: \n",
    "* проверять, что длины векторов совпадают (с помощью `assert`)\n",
    "* возвращать вектор той же длины, содержащий значения функции потерь для каждого из объектов\n",
    "\n",
    "Метод `grad` должен делать то же самое, но возвращать значение градиента функции потерь."
   ]
  },
  {
   "cell_type": "code",
   "execution_count": 2,
   "metadata": {},
   "outputs": [],
   "source": [
    "class Loss(object):\n",
    "    \n",
    "    def __call__(self, y, p):\n",
    "        \"\"\"\n",
    "        Call and use .forward()\n",
    "        :param y: array-like targets\n",
    "        :param p: array-like predictions\n",
    "        :return array-like loss values\n",
    "        \"\"\"\n",
    "        return self.forward(y, p)\n",
    "        \n",
    "    def forward(self, y, p):\n",
    "        \"\"\"\n",
    "        Calculate loss value\n",
    "        :param y: array-like targets\n",
    "        :param p: array-like predictions\n",
    "        :return array-like loss values\n",
    "        \"\"\"\n",
    "        raise NotImplementedError\n",
    "        \n",
    "    def grad(self, y, p):\n",
    "        \"\"\"\n",
    "        Calculate grad value\n",
    "        :param y: array-like targets\n",
    "        :param p: array-like predictions\n",
    "        :return array-like grad values\n",
    "        \"\"\"\n",
    "        raise NotImplementedError"
   ]
  },
  {
   "cell_type": "markdown",
   "metadata": {},
   "source": [
    "#### 1.2. Функция потерь для задачи регрессии (MSE)"
   ]
  },
  {
   "cell_type": "markdown",
   "metadata": {},
   "source": [
    "Для задачи регрессии будем использовать `Mean Squared Error (MSE)`:\n",
    "\n",
    "$$L = MSE(y,p) = \\frac{1}{2n}(y - p) ^ 2$$\n",
    "\n",
    "Ее градиент:\n",
    "$$\\frac{\\partial L}{\\partial p} = \\frac{1}{n}(p - y)$$\n",
    "\n",
    "В формулах выше `p` - предсказания модели."
   ]
  },
  {
   "cell_type": "code",
   "execution_count": 3,
   "metadata": {},
   "outputs": [],
   "source": [
    "class MSELoss(Loss):\n",
    "    \n",
    "    def forward(self, y, p):\n",
    "        # Your code here\n",
    "        assert (len(y) == len(p))\n",
    "        loss = np.empty_like(y)\n",
    "        for i in range(len(y)):\n",
    "            loss[i] = (y[i] - p[i]) ** 2\n",
    "    \n",
    "        return  0.5 * loss / len(y)\n",
    "    \n",
    "    def grad(self, y, p):\n",
    "        # Your code here\n",
    "        assert (len(y) == len(p))\n",
    "        return (p-y) / len(y)"
   ]
  },
  {
   "cell_type": "markdown",
   "metadata": {},
   "source": [
    "Для проверки корректности своего кода используйте ячейку ниже.\n",
    "\n",
    "*Код в ячейках ниже должен выполняться без ошибок.*"
   ]
  },
  {
   "cell_type": "code",
   "execution_count": 4,
   "metadata": {},
   "outputs": [],
   "source": [
    "mse_loss = MSELoss()\n",
    "\n",
    "ys = np.array((10, 20, 30))\n",
    "ps = np.array((5, 25, 30))\n",
    "\n",
    "np.testing.assert_raises(AssertionError, mse_loss, np.asarray([1, 2, 3]), np.asarray([1, 2, 3, 4, 5]))\n",
    "np.testing.assert_raises(AssertionError, mse_loss.grad, np.asarray([1, 2, 3]), np.asarray([1, 2, 3, 4, 5]))\n",
    "\n",
    "np.testing.assert_almost_equal(mse_loss(ys, ps), np.asarray([4.16667, 4.1666, 0]), decimal=4)\n",
    "np.testing.assert_almost_equal(mse_loss.grad(ys, ps), np.asarray([-1.66667, 1.66667, 0]), decimal=4)"
   ]
  },
  {
   "cell_type": "markdown",
   "metadata": {},
   "source": [
    "Если ошибок нет, можно переходить к следующей части."
   ]
  },
  {
   "cell_type": "markdown",
   "metadata": {},
   "source": [
    "#### 1.3. Функция потерь для задачи классификации (BCE)"
   ]
  },
  {
   "cell_type": "markdown",
   "metadata": {},
   "source": [
    "Для задачи регрессии будем использовать `Binary Cross-Entropy (BCE)`:\n",
    "$$L = BCE(y,p) = \\frac{1}{n}(-y \\log{p} - (1-y)\\log{(1-p)})$$\n",
    "\n",
    "Ее градиент по `p`:\n",
    "$$\\frac{\\partial L}{\\partial p} = \\frac{(p - y)}{p(1-p)}$$\n",
    "\n",
    "Вспомним, что для вычисления `p` используется сигмоида:\n",
    "$$p = \\sigma (z) = \\frac{1}{1 + \\exp (-z)}$$\n",
    "$$\\sigma (z)' = \\sigma (z) (1 - \\sigma (z))$$\n",
    "\n",
    "Подставив последнее выражение в градиент функции потерь, получим аналогичное `MSE` выражение:\n",
    "$$\\frac{\\partial L}{\\partial z} = \\frac{1}{n}(\\sigma (z) - y)$$\n",
    "\n",
    "В формулах выше `z` - предсказания модели до применения сигмоиды, `p` - после.\n",
    "\n",
    "**Важно:** для дальнейшего удобства методы `forward` и `grad` в качестве предсказаний должны получать `z`, **активации** модели, то есть результат вычислений модели без взятия сигмоиды от них; сигмоидальное преобразования реализуется внутри этих методов (см.код).\n",
    "\n",
    "**Важно:** не забудьте при вычислении логарифмов добавить отсечку значений аргумента значениями (`eps`, 1 - `eps`) в избежание ошибок арифметики."
   ]
  },
  {
   "cell_type": "code",
   "execution_count": 5,
   "metadata": {},
   "outputs": [],
   "source": [
    "class BCEWithLogitsLoss(Loss):\n",
    "    \n",
    "    eps = 1e-5\n",
    "\n",
    "    def forward(self, y, z):\n",
    "        eps = 1e-5\n",
    "        # Your code here  \n",
    "        p = sigmoid(z)\n",
    "\n",
    "        assert (len(y) == len(p))\n",
    "        \n",
    "        loss = np.empty_like(p)\n",
    "        for i in range(len(y)):\n",
    "            y[i] = float(y[i])\n",
    "            if p[i] < eps:\n",
    "                p[i] = eps\n",
    "            elif p[i] > (1 - eps):\n",
    "                p[i] = 1 - eps                \n",
    "            loss[i] = (-1.) * y[i] * np.log(p[i]) - (1.-y[i]) * np.log(1-p[i])\n",
    "\n",
    "        return loss / len(y)\n",
    "    \n",
    "    def grad(self, y, z):\n",
    "        p = sigmoid(z)\n",
    "        \n",
    "        assert (len(y) == len(p))\n",
    "        return (p-y) / len(y)"
   ]
  },
  {
   "cell_type": "markdown",
   "metadata": {},
   "source": [
    "Для проверки корректности своего кода используйте ячейку ниже.\n",
    "\n",
    "*Код в ячейках ниже должен выполняться без ошибок.*"
   ]
  },
  {
   "cell_type": "code",
   "execution_count": 6,
   "metadata": {},
   "outputs": [],
   "source": [
    "bce_loss = BCEWithLogitsLoss()\n",
    "\n",
    "ys = np.array((1, 0, 0))\n",
    "zs = np.array((0.0, 100.0, 1.0))\n",
    "\n",
    "np.testing.assert_raises(AssertionError, bce_loss, np.asarray([1, 2, 3]), np.asarray([1, 2, 3, 4, 5]))\n",
    "np.testing.assert_raises(AssertionError, bce_loss.grad, np.asarray([1, 2, 3]), np.asarray([1, 2, 3, 4, 5]))\n",
    "\n",
    "np.testing.assert_array_less(bce_loss(ys, zs), np.inf)\n",
    "\n",
    "np.testing.assert_almost_equal(bce_loss(ys, zs), np.asarray([0.231 , 3.8376, 0.4378]), decimal=4)\n",
    "np.testing.assert_almost_equal(bce_loss.grad(ys, zs), np.asarray([-0.1667,  0.3333,  0.2437]), decimal=4)"
   ]
  },
  {
   "cell_type": "markdown",
   "metadata": {},
   "source": [
    "Если ошибок нет, можно переходить к следующей части."
   ]
  },
  {
   "cell_type": "markdown",
   "metadata": {},
   "source": [
    "### 2. Градиентный бустинг"
   ]
  },
  {
   "cell_type": "markdown",
   "metadata": {},
   "source": [
    "#### 2.1. Класс GradentBoosting\n",
    "После того, как были получены классы для функций потерь, можно приступать к реализации класса для градиентного бустинга `GradientBoosting`.\n",
    "В качестве базовых моделей будем использовать деревья решений (`DecisionTreeRegressor` из `sklearn.tree`).\n",
    "Итоговый вид композиции:\n",
    "$$a(x) = \\sum_{t=1}^{T}\\eta * b_{t}(x)$$\n",
    "\n",
    "Параметры класса (аргументы метода `__init__()`):\n",
    "* `loss`: объект одного из двух классов, реализованных выше (`MSELoss` или `BCELoss`), будет определять поведение при вызове метода `predict()`.\n",
    "* `n_estimators`: число деревьев `T` (итераций бустинга)\n",
    "* `learning_rate`: темп обучения (коэффициент $\\eta$)\n",
    "* `max_depth`: максимальная глубина построенных деревьев (параметр `DecisionTreeRegressor`)\n",
    "* `max_features`: число признаков для поиска наилучшего разбиения в узле (параметр `DecisionTreeRegressor`)\n",
    "\n",
    "В методе `__init__()` создаются списки для хранения отдельных деревьев (`self.estimators`) и значений функции потерь на каждом шаге (`self.loss_values`).\n",
    "Также имеется дополнительное поле `self.loss_values_evalset`, в котором можно хранить значения функции потерь на отложенной (`evalset`) выборке по итерациям.\n",
    "\n",
    "Метод `fit(X, y, X_eval=None, y_eval=None)` должен:\n",
    "* Инициализировать \"нулевое приближение\" средним значением целевой переменной, считать значение потерь при нем\n",
    "* Итерируясь по числу деревьев:\n",
    "  * Вычислять **антиградиент** функции потерь построенной композиции по каждому объекту (остатки), создавать новое дерево, обучать его на полученных остатках и добавлять в список деревьев.\n",
    "  * Вычислять новое значение предсказания композиции для обучающей выборки (добавлением ответов нового дерева с весом $\\eta$)\n",
    "  * Считать новое значение функции потерь (суммарно по всем объектам) и добавлять в список\n",
    "* В случае, если методу передаются также `X_eval` и `y_eval`, нужно вычислять значение функции потерь на этом множестве на каждой итерации.\n",
    "  \n",
    "Метод `predict(X)` должен:\n",
    "* Для каждого объекта из `X` делать предсказание с помощью всех деревьев композиции  (**не забывайте про \"нулевое приближение\"**) и суммировать их\n",
    "* Если решается задача классификации, применять сигмоиду на полученных ответах"
   ]
  },
  {
   "cell_type": "code",
   "execution_count": 7,
   "metadata": {},
   "outputs": [],
   "source": [
    "class null_tree():\n",
    "    @classmethod\n",
    "    def predict(cls, X, y_mean):\n",
    "        r = np.full((len(X),) , y_mean)\n",
    "#         print(r)\n",
    "        return r\n",
    "    "
   ]
  },
  {
   "cell_type": "code",
   "execution_count": 8,
   "metadata": {},
   "outputs": [],
   "source": [
    "def get_lab(pr):\n",
    "    pr_lab = np.empty(len(pr),)\n",
    "    for i in range(len(pr)):\n",
    "        if pr[i] > 0.5:\n",
    "            pr_lab[i] = 1.\n",
    "        else:\n",
    "            pr_lab[i] = 0.\n",
    "    return pr_lab\n",
    "        "
   ]
  },
  {
   "cell_type": "code",
   "execution_count": 9,
   "metadata": {},
   "outputs": [],
   "source": [
    "from sklearn.metrics import accuracy_score, r2_score, f1_score, roc_auc_score, average_precision_score"
   ]
  },
  {
   "cell_type": "code",
   "execution_count": 10,
   "metadata": {},
   "outputs": [],
   "source": [
    "class GradientBoosting(BaseEstimator):\n",
    "    \n",
    "    def __init__(self, \n",
    "                 loss=None,\n",
    "                 n_estimators=10, \n",
    "                 learning_rate=0.1,\n",
    "                 max_depth=3,\n",
    "                 max_features='auto',\n",
    "                 random_state=2):\n",
    "        self.loss = loss\n",
    "        \n",
    "        # храним доп метрику: f1-score для классификации, r2-score - регрессии\n",
    "        self.extra_metric_values = []\n",
    "        self.extra_metric_values_evalset = []\n",
    "        \n",
    "        self.learning_rate = learning_rate\n",
    "        self.n_estimators = n_estimators\n",
    "        \n",
    "        self.max_depth = max_depth\n",
    "        self.max_features = max_features\n",
    "        \n",
    "        self.estimators = []\n",
    "        \n",
    "        self.loss_values = []\n",
    "        self.loss_values_evalset = []\n",
    "        \n",
    "        self.random_state = random_state\n",
    "        \n",
    "    \n",
    "    def fit(self, X, y, X_evalset=None, y_evalset=None, verbose=False, early_stopping=False):\n",
    "        # Your code here\n",
    "        \n",
    "       # initial tree\n",
    "        self.y = y\n",
    "        y_mean = np.mean(self.y)\n",
    "        self.y_mean = y_mean\n",
    "       \n",
    "        if isinstance(self.loss, MSELoss):\n",
    "            pred =  self.learning_rate * null_tree.predict(X,self.y_mean) \n",
    "            # доп метрика\n",
    "            self.extra_metric_values.append(r2_score(self.y, pred))       \n",
    "                                \n",
    "        else: \n",
    "            pred = self.learning_rate * null_tree.predict(X,self.y_mean)\n",
    "            pred = sigmoid(pred)\n",
    "            # доп метрика\n",
    "            self.extra_metric_values.append(f1_score(self.y, get_lab(pred)))\n",
    "                       \n",
    "        self.loss_values.append(self.loss(y, pred).sum())     \n",
    "        \n",
    "        \n",
    "        # предсказание для eval_set с помощью начального приближения\n",
    "        if np.all(X_evalset != None):\n",
    "                self.y_evalset = y_evalset          \n",
    "                pred_ev = self.predict(X_evalset)\n",
    "                losses_eval = self.loss(y_evalset, pred_ev).sum()\n",
    "                self.loss_values_evalset.append(losses_eval)\n",
    "                \n",
    "                if isinstance(self.loss, MSELoss):\n",
    "                    self.extra_metric_values_evalset.append(r2_score(self.y_evalset, pred_ev))\n",
    "                else: \n",
    "                    self.extra_metric_values_evalset.append(roc_auc_score(self.y_evalset, get_lab(pred_ev)))\n",
    "                \n",
    "        \n",
    "        \n",
    "        # итерируемся по числу деревьев\n",
    "   \n",
    "        for t in range(self.n_estimators):\n",
    "            # Your code here\n",
    "\n",
    "            g = - self.loss.grad(y, pred)\n",
    "            \n",
    "            # обучаем новое дерево на остатках\n",
    "            tree = DecisionTreeRegressor(max_features=self.max_features, max_depth=self.max_depth)\n",
    "            tree.fit(X, g)\n",
    "            self.estimators.append(tree)\n",
    "            \n",
    "            # новое значение предсказания композиции для обучающей выборки\n",
    "            pred = self.predict(X)\n",
    "            \n",
    "            # новое значение ф-ии потерь\n",
    "            losses_new = self.loss(y, pred).sum()\n",
    "            self.loss_values.append(losses_new)\n",
    "            \n",
    "            if verbose:\n",
    "                print('estimator {}/{} , loss: {}\\n'.format(t, self.n_estimators, losses_new))\n",
    "            \n",
    "            # новое значение доп метрики качества *\n",
    "            if isinstance(self.loss, MSELoss):\n",
    "                self.extra_metric_values.append(r2_score(self.y, pred))\n",
    "            else: \n",
    "                self.extra_metric_values.append(f1_score(self.y, get_lab(pred)))\n",
    "                \n",
    "           \n",
    "            # для eval_set\n",
    "            if np.all(X_evalset != None):\n",
    "                self.y_evalset = y_evalset          \n",
    "                pred_ev = self.predict(X_evalset)\n",
    "                losses_eval = self.loss(y_evalset, pred_ev).sum()\n",
    "                self.loss_values_evalset.append(losses_eval)\n",
    "                \n",
    "                if isinstance(self.loss, MSELoss):\n",
    "                    self.extra_metric_values_evalset.append(r2_score(self.y_evalset, pred_ev))\n",
    "                else: \n",
    "                    self.extra_metric_values_evalset.append(roc_auc_score(self.y_evalset, get_lab(pred_ev)))\n",
    "                \n",
    "                # ранняя остановка\n",
    "                if early_stopping and t>2 and (self.loss_values_evalset[-1] > self.loss_values_evalset[-2]):\n",
    "                    break                   \n",
    "            \n",
    "    \n",
    "    def predict(self, X):\n",
    "        # Your code here\n",
    "        estimators = self.estimators \n",
    "        pred = self.learning_rate * null_tree.predict(X, self.y_mean)\n",
    "        \n",
    "        if isinstance(self.loss, MSELoss):\n",
    "       \n",
    "            for ob in estimators:\n",
    "                pred += self.learning_rate * ob.predict(X)\n",
    "        else: \n",
    "                        \n",
    "            for ob in estimators:\n",
    "                pred += self.learning_rate * ob.predict(X)               \n",
    "            pred = sigmoid(pred)\n",
    "        return pred"
   ]
  },
  {
   "cell_type": "markdown",
   "metadata": {},
   "source": [
    "#### 2.2. Тестирование класса GradientBoosting"
   ]
  },
  {
   "cell_type": "markdown",
   "metadata": {},
   "source": [
    "##### 2.2.1. Интерфейс\n",
    "*Код в ячейках ниже должен выполняться без ошибок.*"
   ]
  },
  {
   "cell_type": "code",
   "execution_count": 11,
   "metadata": {},
   "outputs": [],
   "source": [
    "X_test = np.random.uniform(size=(100, 2))\n",
    "y_test = np.random.uniform(size=100)\n",
    "\n",
    "gb_test = GradientBoosting(loss=MSELoss(), n_estimators=100)\n",
    "gb_test.fit(X_test, y_test)"
   ]
  },
  {
   "cell_type": "code",
   "execution_count": 12,
   "metadata": {},
   "outputs": [],
   "source": [
    "assert len(gb_test.estimators) == gb_test.n_estimators\n",
    "assert gb_test.predict(X_test).shape == y_test.shape"
   ]
  },
  {
   "cell_type": "markdown",
   "metadata": {},
   "source": [
    "Сгенерируем случайную выборку и убедимся, что функция потерь уменьшается при увеличении итераций.\n",
    "\n",
    "*Код в ячейках ниже должен выполняться без ошибок.*"
   ]
  },
  {
   "cell_type": "markdown",
   "metadata": {},
   "source": [
    "##### 2.2.2. Регрессия"
   ]
  },
  {
   "cell_type": "code",
   "execution_count": 13,
   "metadata": {},
   "outputs": [
    {
     "data": {
      "image/png": "[encoded data removed]",
      "text/plain": [
       "<Figure size 432x288 with 1 Axes>"
      ]
     },
     "metadata": {
      "needs_background": "light"
     },
     "output_type": "display_data"
    }
   ],
   "source": [
    "X_test = np.random.uniform(size=(100, 2))\n",
    "y_test = np.random.uniform(size=100)\n",
    "\n",
    "gb_test = GradientBoosting(loss=MSELoss(), n_estimators=100)\n",
    "gb_test.fit(X_test, y_test)\n",
    "\n",
    "loss_values = gb_test.loss_values\n",
    "plt.plot(loss_values)\n",
    "np.testing.assert_array_equal(loss_values, sorted(loss_values, reverse=True))"
   ]
  },
  {
   "cell_type": "markdown",
   "metadata": {},
   "source": [
    "##### 2.2.3. Классификация"
   ]
  },
  {
   "cell_type": "code",
   "execution_count": 14,
   "metadata": {},
   "outputs": [
    {
     "data": {
      "image/png": "[encoded data removed]",
      "text/plain": [
       "<Figure size 432x288 with 1 Axes>"
      ]
     },
     "metadata": {
      "needs_background": "light"
     },
     "output_type": "display_data"
    }
   ],
   "source": [
    "X_test = np.random.uniform(size=(100, 2))\n",
    "y_test = np.random.binomial(1, 0.5, size=100)\n",
    "\n",
    "gb_test = GradientBoosting(loss=BCEWithLogitsLoss(), n_estimators=100)\n",
    "gb_test.fit(X_test, y_test)\n",
    "\n",
    "loss_values = gb_test.loss_values\n",
    "plt.plot(loss_values)\n",
    "np.testing.assert_array_equal(loss_values, sorted(loss_values, reverse=True))"
   ]
  },
  {
   "cell_type": "markdown",
   "metadata": {},
   "source": [
    "### 3. Использование класса GradientBoosting"
   ]
  },
  {
   "cell_type": "markdown",
   "metadata": {},
   "source": [
    "Проверим, как работает наш бустинг на двух задачах - регрессии и классификации на 2 класса.\n",
    "Для этого будем использовать игрушечные выборки, полученные с помощью `sklearn.datasets.make_regression` и `sklearn.datasets.make_classificaiton`."
   ]
  },
  {
   "cell_type": "code",
   "execution_count": 15,
   "metadata": {},
   "outputs": [],
   "source": [
    "from sklearn.metrics import accuracy_score, mean_squared_error"
   ]
  },
  {
   "cell_type": "markdown",
   "metadata": {},
   "source": [
    "#### 3.1. Задача регрессии"
   ]
  },
  {
   "cell_type": "code",
   "execution_count": 16,
   "metadata": {},
   "outputs": [],
   "source": [
    "from sklearn.datasets import make_regression\n",
    "X, y = make_regression(n_samples=100, n_features=2, random_state=2)\n",
    "X_train, X_val, y_train, y_val = train_test_split(X, y, test_size=0.2, random_state=2)"
   ]
  },
  {
   "cell_type": "code",
   "execution_count": 17,
   "metadata": {},
   "outputs": [],
   "source": [
    "gb_regressor = GradientBoosting(loss=MSELoss(), n_estimators=500, learning_rate=1.0, max_depth=3)\n",
    "gb_regressor.fit(X_train, y_train, X_evalset=X_val, y_evalset=y_val, verbose=False)"
   ]
  },
  {
   "cell_type": "code",
   "execution_count": 18,
   "metadata": {},
   "outputs": [
    {
     "data": {
      "image/png": "[encoded data removed]",
      "text/plain": [
       "<Figure size 1296x288 with 1 Axes>"
      ]
     },
     "metadata": {
      "needs_background": "light"
     },
     "output_type": "display_data"
    }
   ],
   "source": [
    "plt.figure(figsize=(18, 4))\n",
    "plt.plot(gb_regressor.loss_values, label='train loss')\n",
    "plt.plot(gb_regressor.loss_values_evalset, label='evalset loss')\n",
    "plt.legend()\n",
    "plt.show()"
   ]
  },
  {
   "cell_type": "markdown",
   "metadata": {},
   "source": [
    "На рисунке выше вы должны видеть два графика - лосс на обучающей и на валидационной выборках по итерациям бустинга.\n",
    "\n",
    "Проверим, что наш бустинг действительно работает: сравним предсказание типа \"среднее по датасету\" с предсказаниями бустинга для обучающей и валидацонной выборок - после 500 итераций они должны отличаться как минимум в 100 раз.\n",
    "\n",
    "*Код в ячейках ниже должен выполняться без ошибок.*"
   ]
  },
  {
   "cell_type": "code",
   "execution_count": 19,
   "metadata": {},
   "outputs": [
    {
     "name": "stdout",
     "output_type": "stream",
     "text": [
      "MSE для предсказания среднего по выборке: 1648.606\n",
      "MSE для предсказаний бустинга: 1.946\n"
     ]
    }
   ],
   "source": [
    "# Train\n",
    "y_mean = np.mean(y_train) * np.ones_like(y_train)\n",
    "mse_baseline = mean_squared_error(y_train, y_mean)\n",
    "print('MSE для предсказания среднего по выборке: {:.3f}'.format(mse_baseline))\n",
    "\n",
    "y_pred = gb_regressor.predict(X_train)\n",
    "mse_boosting = mean_squared_error(y_train, y_pred)\n",
    "print('MSE для предсказаний бустинга: {:.3f}'.format(mse_boosting))\n",
    "\n",
    "np.testing.assert_array_less(mse_boosting, mse_baseline / 100)"
   ]
  },
  {
   "cell_type": "code",
   "execution_count": 20,
   "metadata": {},
   "outputs": [
    {
     "name": "stdout",
     "output_type": "stream",
     "text": [
      "MSE для предсказания среднего по выборке: 3531.394\n",
      "MSE для предсказаний бустинга: 837.892\n"
     ]
    }
   ],
   "source": [
    "# Val\n",
    "y_mean = np.mean(y_val) * np.ones_like(y_val)\n",
    "mse_baseline = mean_squared_error(y_val, y_mean)\n",
    "print('MSE для предсказания среднего по выборке: {:.3f}'.format(mse_baseline))\n",
    "\n",
    "y_pred = gb_regressor.predict(X_val)\n",
    "mse_boosting = mean_squared_error(y_val, y_pred)\n",
    "print('MSE для предсказаний бустинга: {:.3f}'.format(mse_boosting))\n",
    "\n",
    "np.testing.assert_array_less(mse_boosting, mse_baseline / 3)"
   ]
  },
  {
   "cell_type": "markdown",
   "metadata": {},
   "source": [
    "#### 3.2. Задача классификации"
   ]
  },
  {
   "cell_type": "code",
   "execution_count": 21,
   "metadata": {},
   "outputs": [],
   "source": [
    "from sklearn.datasets import make_classification\n",
    "X, y = make_classification(n_samples=100, n_features=2, n_redundant=0, n_repeated=0, n_clusters_per_class=1, flip_y=0.25, random_state=2)\n",
    "X_train, X_val, y_train, y_val = train_test_split(X, y, test_size=0.2, random_state=2)"
   ]
  },
  {
   "cell_type": "code",
   "execution_count": 22,
   "metadata": {},
   "outputs": [],
   "source": [
    "gb_classifier = GradientBoosting(loss=BCEWithLogitsLoss(), n_estimators=500, learning_rate=1.0, max_depth=3)\n",
    "gb_classifier.fit(X_train, y_train, X_evalset=X_val, y_evalset=y_val)"
   ]
  },
  {
   "cell_type": "code",
   "execution_count": 23,
   "metadata": {},
   "outputs": [
    {
     "data": {
      "image/png": "[encoded data removed]",
      "text/plain": [
       "<Figure size 1296x288 with 1 Axes>"
      ]
     },
     "metadata": {
      "needs_background": "light"
     },
     "output_type": "display_data"
    }
   ],
   "source": [
    "plt.figure(figsize=(18, 4))\n",
    "plt.plot(gb_classifier.loss_values, label='train loss')\n",
    "plt.plot(gb_classifier.loss_values_evalset, label='evalset loss')\n",
    "plt.legend()\n",
    "plt.show()"
   ]
  },
  {
   "cell_type": "markdown",
   "metadata": {},
   "source": [
    "На рисунке выше вы должны видеть два графика - лосс на обучающей и на валидационной выборках по итерациям бустинга.\n",
    "\n",
    "Проверим, что наш бустинг действительно работает: сравним предсказание типа \"подбрасывание монетки\" с предсказаниями бустинга для обучающей и валидацонной выборок - после 500 итераций ошибка бустинга должна быть как минимум вдвое меньше.\n",
    "\n",
    "*Код в ячейках ниже должен выполняться без ошибок.*"
   ]
  },
  {
   "cell_type": "code",
   "execution_count": 24,
   "metadata": {},
   "outputs": [
    {
     "name": "stdout",
     "output_type": "stream",
     "text": [
      "Accuracy для случайного предсказания: 0.487\n",
      "Accuracy для предсказаний бустинга: 0.887\n"
     ]
    }
   ],
   "source": [
    "# Train\n",
    "y_random = np.random.binomial(1, 0.5, size=len(y_train))\n",
    "accuracy_baseline = accuracy_score(y_train, y_random)\n",
    "print('Accuracy для случайного предсказания: {:.3f}'.format(accuracy_baseline))\n",
    "\n",
    "y_pred = np.array(gb_classifier.predict(X_train) > 0.5, dtype=np.int)\n",
    "accuracy_boosting = accuracy_score(y_train, y_pred)\n",
    "print('Accuracy для предсказаний бустинга: {:.3f}'.format(accuracy_boosting))\n",
    "\n",
    "np.testing.assert_array_less(1 - accuracy_boosting, (1 - accuracy_baseline) / 2 + 1e-5)"
   ]
  },
  {
   "cell_type": "code",
   "execution_count": 25,
   "metadata": {},
   "outputs": [
    {
     "name": "stdout",
     "output_type": "stream",
     "text": [
      "Accuracy для случайного предсказания: 0.400\n",
      "Accuracy для предсказаний бустинга: 0.800\n"
     ]
    }
   ],
   "source": [
    "# Val\n",
    "y_random = np.random.binomial(1, 0.5, size=len(y_val))\n",
    "accuracy_baseline = accuracy_score(y_val, y_random)\n",
    "print('Accuracy для случайного предсказания: {:.3f}'.format(accuracy_baseline))\n",
    "\n",
    "y_pred = np.array(gb_classifier.predict(X_val) > 0.5, dtype=np.int)\n",
    "accuracy_boosting = accuracy_score(y_val, y_pred)\n",
    "print('Accuracy для предсказаний бустинга: {:.3f}'.format(accuracy_boosting))\n",
    "\n",
    "np.testing.assert_array_less(1 - accuracy_boosting, (1 - accuracy_baseline) / 2 + 1e-5)"
   ]
  },
  {
   "cell_type": "markdown",
   "metadata": {},
   "source": [
    "Если все тесты пройдены успешно, попробуйте реализовать дополнительный функционал для вашего класса:\n",
    "- Реализация ранней остановки обучения (1 балл)\n",
    "- Реализация вычисления дополнительной метрики качества на каждой итерации (1 балл)\n",
    "- Реализация бэггинга при обучении отдельных деревьев (1 балл)\n",
    "\n",
    "Для того, чтобы дополнительные баллы были засчитаны, необходимо реализовать функционал и продемонстрировать результат в ячейке внизу."
   ]
  },
  {
   "cell_type": "markdown",
   "metadata": {},
   "source": [
    "### Ранняя остановка обучения\n"
   ]
  },
  {
   "cell_type": "code",
   "execution_count": 26,
   "metadata": {},
   "outputs": [
    {
     "data": {
      "image/png": "[encoded data removed]",
      "text/plain": [
       "<Figure size 1296x288 with 1 Axes>"
      ]
     },
     "metadata": {
      "needs_background": "light"
     },
     "output_type": "display_data"
    }
   ],
   "source": [
    "gb_classifier = GradientBoosting(loss=BCEWithLogitsLoss(), n_estimators=1000, learning_rate=1.0, max_depth=3)\n",
    "gb_classifier.fit(X_train, y_train, X_evalset=X_val, y_evalset=y_val, early_stopping=True)\n",
    "\n",
    "plt.figure(figsize=(18, 4))\n",
    "plt.plot(gb_classifier.loss_values, label='train loss')\n",
    "plt.plot(gb_classifier.loss_values_evalset, label='evalset  loss')\n",
    "plt.legend()\n",
    "plt.show()"
   ]
  },
  {
   "cell_type": "code",
   "execution_count": 27,
   "metadata": {},
   "outputs": [
    {
     "name": "stdout",
     "output_type": "stream",
     "text": [
      "715 1000\n"
     ]
    }
   ],
   "source": [
    "# Смотрим на полученное количество деревьем - меньше, чем n_estimators,\n",
    "# произошла ранняя остановка обучения\n",
    "\n",
    "assert len(gb_classifier.estimators) < gb_classifier.n_estimators\n",
    "\n",
    "print(len(gb_classifier.estimators), gb_classifier.n_estimators)"
   ]
  },
  {
   "cell_type": "markdown",
   "metadata": {},
   "source": [
    "### Введем доп метрики качества, для регрессии r2-score, для классификации roc-auc"
   ]
  },
  {
   "cell_type": "code",
   "execution_count": 28,
   "metadata": {},
   "outputs": [
    {
     "data": {
      "image/png": "[encoded data removed]",
      "text/plain": [
       "<Figure size 1296x288 with 1 Axes>"
      ]
     },
     "metadata": {
      "needs_background": "light"
     },
     "output_type": "display_data"
    }
   ],
   "source": [
    "# Классификация\n",
    "X, y = make_classification(n_samples=100, n_features=2, n_redundant=0,\n",
    "                           n_repeated=0, n_clusters_per_class=1, flip_y=0.25, random_state=2)\n",
    "X_train, X_val, y_train, y_val = train_test_split(X, y, test_size=0.2, random_state=2)\n",
    "\n",
    "gb_classifier = GradientBoosting(loss=BCEWithLogitsLoss(), n_estimators=300, learning_rate=1.0, max_depth=4)\n",
    "gb_classifier.fit(X_train, y_train, X_evalset=X_val, y_evalset=y_val)\n",
    "\n",
    "plt.figure(figsize=(18, 4))\n",
    "plt.plot(gb_classifier.extra_metric_values, label='train roc-auc')\n",
    "plt.plot(gb_classifier.extra_metric_values_evalset, label='evalset  roc-auc')\n",
    "plt.legend()\n",
    "plt.show()\n"
   ]
  },
  {
   "cell_type": "code",
   "execution_count": 29,
   "metadata": {},
   "outputs": [
    {
     "data": {
      "image/png": "[encoded data removed]",
      "text/plain": [
       "<Figure size 1296x288 with 1 Axes>"
      ]
     },
     "metadata": {
      "needs_background": "light"
     },
     "output_type": "display_data"
    }
   ],
   "source": [
    "# Регрессия\n",
    "\n",
    "X, y = make_regression(n_samples=100, n_features=2, random_state=2)\n",
    "X_train, X_val, y_train, y_val = train_test_split(X, y, test_size=0.2, random_state=2)\n",
    "\n",
    "gb_regressor = GradientBoosting(loss=MSELoss(), n_estimators=300, learning_rate=1.0, max_depth=3)\n",
    "gb_regressor.fit(X_train, y_train, X_evalset=X_val, y_evalset=y_val)\n",
    "\n",
    "plt.figure(figsize=(18, 4))\n",
    "plt.plot(gb_regressor.extra_metric_values, label='train r2-score')\n",
    "plt.plot(gb_regressor.extra_metric_values_evalset, label='evalset r2-score')\n",
    "plt.legend()\n",
    "plt.show()"
   ]
  },
  {
   "cell_type": "markdown",
   "metadata": {},
   "source": [
    "## Часть 2. Решение задачи предсказания цены футболиста в FIFA 18 Ultimate Team"
   ]
  },
  {
   "cell_type": "markdown",
   "metadata": {},
   "source": [
    "Нужно обучить какой-либо из рассмотренных в курсе ансамблей предсказывать трансферную стоимость футболиста из FIFA 18 Ultimate Team. Решение будет оцениваться по метрике MSE на тестовой выборке. Засчитывается только решение, качество которого на тестовой выборке окажется выше, чем у бейзлайна (см. в конце ноутбука).\n",
    "\n",
    "Данные для обучения - `train_with_targets.csv`, столбец с целевой переменной - `price_ps4`.\n",
    "Для отправки решения заполните столбец `price_ps4` в файле `test_submission.csv` предсказаниями своей модели на признаках из файла `test.csv` (убедитесь, что порядок следования `player_id` верный)."
   ]
  },
  {
   "cell_type": "markdown",
   "metadata": {},
   "source": [
    "Для обучения моделей следует использовать:\n",
    "* \\*Свой класс для градиентного бустинга, реализованный выше\n",
    "* Любые ансамбли из `sklearn` (`RandomForestRegressor`, `GradientBoostingRegressor`, ...)\n",
    "* Любые фреймворки для градиентного бустинга (`XGBoost`, `LightGBM`, `CatBoost`, ...)\n",
    "* \\*Стекинг/блендинг (свой или тот, что был реализован на лекциях)\n",
    "* Подбор гиперпараметров с помощью `RandomizedSearch` / `hyperopt` / ... \n",
    "\n",
    "Использование пунктов со звездочкой может накинуть дополнительных баллов за задание (по 1 баллу за пункт, т.е. максимум 2 дополнительных балла).\n",
    "\n",
    "Удачи!\n",
    "\n",
    "*Ниже приведен пример бейзлайна на случайном лесе из `sklearn`.*"
   ]
  },
  {
   "cell_type": "markdown",
   "metadata": {},
   "source": [
    "### Baseline на RandomForestClassifier из Sklearn.ensemble"
   ]
  },
  {
   "cell_type": "code",
   "execution_count": 193,
   "metadata": {},
   "outputs": [
    {
     "data": {
      "text/html": [
       "<div>\n",
       "<style scoped>\n",
       "    .dataframe tbody tr th:only-of-type {\n",
       "        vertical-align: middle;\n",
       "    }\n",
       "\n",
       "    .dataframe tbody tr th {\n",
       "        vertical-align: top;\n",
       "    }\n",
       "\n",
       "    .dataframe thead th {\n",
       "        text-align: right;\n",
       "    }\n",
       "</style>\n",
       "<table border=\"1\" class=\"dataframe\">\n",
       "  <thead>\n",
       "    <tr style=\"text-align: right;\">\n",
       "      <th></th>\n",
       "      <th>player_ID</th>\n",
       "      <th>player_name</th>\n",
       "      <th>player_extended_name</th>\n",
       "      <th>quality</th>\n",
       "      <th>revision</th>\n",
       "      <th>origin</th>\n",
       "      <th>overall</th>\n",
       "      <th>club</th>\n",
       "      <th>league</th>\n",
       "      <th>nationality</th>\n",
       "      <th>...</th>\n",
       "      <th>cam</th>\n",
       "      <th>cf</th>\n",
       "      <th>rf</th>\n",
       "      <th>lf</th>\n",
       "      <th>rw</th>\n",
       "      <th>lw</th>\n",
       "      <th>st</th>\n",
       "      <th>price_ps4</th>\n",
       "      <th>traits</th>\n",
       "      <th>specialties</th>\n",
       "    </tr>\n",
       "  </thead>\n",
       "  <tbody>\n",
       "    <tr>\n",
       "      <th>0</th>\n",
       "      <td>20920</td>\n",
       "      <td>Sacko</td>\n",
       "      <td>Hadi Sacko</td>\n",
       "      <td>Silver - Rare</td>\n",
       "      <td>Normal</td>\n",
       "      <td>Transfers</td>\n",
       "      <td>68</td>\n",
       "      <td>UD Las Palmas</td>\n",
       "      <td>LaLiga Santander</td>\n",
       "      <td>France</td>\n",
       "      <td>...</td>\n",
       "      <td>65.0</td>\n",
       "      <td>67.0</td>\n",
       "      <td>67.0</td>\n",
       "      <td>67.0</td>\n",
       "      <td>68.0</td>\n",
       "      <td>68.0</td>\n",
       "      <td>66.0</td>\n",
       "      <td>1000.0</td>\n",
       "      <td>Tries To Beat Defensive Line, Selfish, Dribble...</td>\n",
       "      <td>Speedster</td>\n",
       "    </tr>\n",
       "    <tr>\n",
       "      <th>1</th>\n",
       "      <td>2996</td>\n",
       "      <td>Koo Ja Ryong</td>\n",
       "      <td>Ja Ryong Koo</td>\n",
       "      <td>Silver - Rare</td>\n",
       "      <td>Normal</td>\n",
       "      <td>NaN</td>\n",
       "      <td>73</td>\n",
       "      <td>Suwon Samsung Bluewings</td>\n",
       "      <td>K LEAGUE Classic</td>\n",
       "      <td>Korea Republic</td>\n",
       "      <td>...</td>\n",
       "      <td>48.0</td>\n",
       "      <td>46.0</td>\n",
       "      <td>46.0</td>\n",
       "      <td>46.0</td>\n",
       "      <td>46.0</td>\n",
       "      <td>46.0</td>\n",
       "      <td>46.0</td>\n",
       "      <td>450.0</td>\n",
       "      <td>Leadership</td>\n",
       "      <td>NaN</td>\n",
       "    </tr>\n",
       "    <tr>\n",
       "      <th>2</th>\n",
       "      <td>12998</td>\n",
       "      <td>Gipson</td>\n",
       "      <td>Ken Gipson</td>\n",
       "      <td>Bronze</td>\n",
       "      <td>Normal</td>\n",
       "      <td>NaN</td>\n",
       "      <td>60</td>\n",
       "      <td>SV Sandhausen</td>\n",
       "      <td>Bundesliga 2</td>\n",
       "      <td>Germany</td>\n",
       "      <td>...</td>\n",
       "      <td>49.0</td>\n",
       "      <td>49.0</td>\n",
       "      <td>49.0</td>\n",
       "      <td>49.0</td>\n",
       "      <td>51.0</td>\n",
       "      <td>51.0</td>\n",
       "      <td>49.0</td>\n",
       "      <td>200.0</td>\n",
       "      <td>NaN</td>\n",
       "      <td>NaN</td>\n",
       "    </tr>\n",
       "    <tr>\n",
       "      <th>3</th>\n",
       "      <td>16112</td>\n",
       "      <td>Yoda</td>\n",
       "      <td>Abdoul Karim Yoda</td>\n",
       "      <td>Silver</td>\n",
       "      <td>Normal</td>\n",
       "      <td>Transfers</td>\n",
       "      <td>69</td>\n",
       "      <td>CF Reus</td>\n",
       "      <td>LaLiga 1 I 2 I 3</td>\n",
       "      <td>France</td>\n",
       "      <td>...</td>\n",
       "      <td>66.0</td>\n",
       "      <td>67.0</td>\n",
       "      <td>67.0</td>\n",
       "      <td>67.0</td>\n",
       "      <td>69.0</td>\n",
       "      <td>69.0</td>\n",
       "      <td>65.0</td>\n",
       "      <td>350.0</td>\n",
       "      <td>Flair, Technical Dribbler</td>\n",
       "      <td>NaN</td>\n",
       "    </tr>\n",
       "    <tr>\n",
       "      <th>4</th>\n",
       "      <td>16502</td>\n",
       "      <td>Ronan</td>\n",
       "      <td>Connor Ronan</td>\n",
       "      <td>Bronze - Rare</td>\n",
       "      <td>Normal</td>\n",
       "      <td>Transfers</td>\n",
       "      <td>64</td>\n",
       "      <td>Portsmouth</td>\n",
       "      <td>EFL League One</td>\n",
       "      <td>Republic of Ireland</td>\n",
       "      <td>...</td>\n",
       "      <td>63.0</td>\n",
       "      <td>61.0</td>\n",
       "      <td>61.0</td>\n",
       "      <td>61.0</td>\n",
       "      <td>63.0</td>\n",
       "      <td>63.0</td>\n",
       "      <td>56.0</td>\n",
       "      <td>200.0</td>\n",
       "      <td>NaN</td>\n",
       "      <td>NaN</td>\n",
       "    </tr>\n",
       "  </tbody>\n",
       "</table>\n",
       "<p>5 rows × 82 columns</p>\n",
       "</div>"
      ],
      "text/plain": [
       "   player_ID   player_name player_extended_name        quality revision  \\\n",
       "0      20920         Sacko           Hadi Sacko  Silver - Rare   Normal   \n",
       "1       2996  Koo Ja Ryong         Ja Ryong Koo  Silver - Rare   Normal   \n",
       "2      12998        Gipson           Ken Gipson         Bronze   Normal   \n",
       "3      16112          Yoda    Abdoul Karim Yoda         Silver   Normal   \n",
       "4      16502         Ronan         Connor Ronan  Bronze - Rare   Normal   \n",
       "\n",
       "      origin  overall                     club            league  \\\n",
       "0  Transfers       68            UD Las Palmas  LaLiga Santander   \n",
       "1        NaN       73  Suwon Samsung Bluewings  K LEAGUE Classic   \n",
       "2        NaN       60            SV Sandhausen      Bundesliga 2   \n",
       "3  Transfers       69                  CF Reus  LaLiga 1 I 2 I 3   \n",
       "4  Transfers       64               Portsmouth    EFL League One   \n",
       "\n",
       "           nationality     ...        cam    cf    rf    lf    rw    lw    st  \\\n",
       "0               France     ...       65.0  67.0  67.0  67.0  68.0  68.0  66.0   \n",
       "1       Korea Republic     ...       48.0  46.0  46.0  46.0  46.0  46.0  46.0   \n",
       "2              Germany     ...       49.0  49.0  49.0  49.0  51.0  51.0  49.0   \n",
       "3               France     ...       66.0  67.0  67.0  67.0  69.0  69.0  65.0   \n",
       "4  Republic of Ireland     ...       63.0  61.0  61.0  61.0  63.0  63.0  56.0   \n",
       "\n",
       "   price_ps4                                             traits  specialties  \n",
       "0     1000.0  Tries To Beat Defensive Line, Selfish, Dribble...    Speedster  \n",
       "1      450.0                                         Leadership          NaN  \n",
       "2      200.0                                                NaN          NaN  \n",
       "3      350.0                          Flair, Technical Dribbler          NaN  \n",
       "4      200.0                                                NaN          NaN  \n",
       "\n",
       "[5 rows x 82 columns]"
      ]
     },
     "execution_count": 193,
     "metadata": {},
     "output_type": "execute_result"
    }
   ],
   "source": [
    "from sklearn.metrics import accuracy_score, mean_squared_error\n",
    "import pandas as pd\n",
    "data_train = pd.read_csv('./data/train_with_targets.csv')\n",
    "data_train.head()"
   ]
  },
  {
   "cell_type": "code",
   "execution_count": 194,
   "metadata": {},
   "outputs": [
    {
     "name": "stderr",
     "output_type": "stream",
     "text": [
      "/home/olya/.conda/envs/py37/lib/python3.7/site-packages/pandas/core/generic.py:5434: SettingWithCopyWarning: \n",
      "A value is trying to be set on a copy of a slice from a DataFrame\n",
      "\n",
      "See the caveats in the documentation: http://pandas.pydata.org/pandas-docs/stable/indexing.html#indexing-view-versus-copy\n",
      "  self._update_inplace(new_data)\n"
     ]
    },
    {
     "data": {
      "text/html": [
       "<div>\n",
       "<style scoped>\n",
       "    .dataframe tbody tr th:only-of-type {\n",
       "        vertical-align: middle;\n",
       "    }\n",
       "\n",
       "    .dataframe tbody tr th {\n",
       "        vertical-align: top;\n",
       "    }\n",
       "\n",
       "    .dataframe thead th {\n",
       "        text-align: right;\n",
       "    }\n",
       "</style>\n",
       "<table border=\"1\" class=\"dataframe\">\n",
       "  <thead>\n",
       "    <tr style=\"text-align: right;\">\n",
       "      <th></th>\n",
       "      <th>player_ID</th>\n",
       "      <th>overall</th>\n",
       "      <th>age</th>\n",
       "      <th>height</th>\n",
       "      <th>weight</th>\n",
       "      <th>intl_rep</th>\n",
       "      <th>pace</th>\n",
       "      <th>pace_acceleration</th>\n",
       "      <th>pace_sprint_speed</th>\n",
       "      <th>dribbling</th>\n",
       "      <th>...</th>\n",
       "      <th>rm</th>\n",
       "      <th>lm</th>\n",
       "      <th>cam</th>\n",
       "      <th>cf</th>\n",
       "      <th>rf</th>\n",
       "      <th>lf</th>\n",
       "      <th>rw</th>\n",
       "      <th>lw</th>\n",
       "      <th>st</th>\n",
       "      <th>price_ps4</th>\n",
       "    </tr>\n",
       "  </thead>\n",
       "  <tbody>\n",
       "    <tr>\n",
       "      <th>0</th>\n",
       "      <td>20920</td>\n",
       "      <td>68</td>\n",
       "      <td>24</td>\n",
       "      <td>183</td>\n",
       "      <td>79</td>\n",
       "      <td>1</td>\n",
       "      <td>91.0</td>\n",
       "      <td>90.0</td>\n",
       "      <td>91.0</td>\n",
       "      <td>69.0</td>\n",
       "      <td>...</td>\n",
       "      <td>67.0</td>\n",
       "      <td>67.0</td>\n",
       "      <td>65.0</td>\n",
       "      <td>67.0</td>\n",
       "      <td>67.0</td>\n",
       "      <td>67.0</td>\n",
       "      <td>68.0</td>\n",
       "      <td>68.0</td>\n",
       "      <td>66.0</td>\n",
       "      <td>1000.0</td>\n",
       "    </tr>\n",
       "    <tr>\n",
       "      <th>1</th>\n",
       "      <td>2996</td>\n",
       "      <td>73</td>\n",
       "      <td>26</td>\n",
       "      <td>183</td>\n",
       "      <td>75</td>\n",
       "      <td>1</td>\n",
       "      <td>72.0</td>\n",
       "      <td>69.0</td>\n",
       "      <td>74.0</td>\n",
       "      <td>49.0</td>\n",
       "      <td>...</td>\n",
       "      <td>48.0</td>\n",
       "      <td>48.0</td>\n",
       "      <td>48.0</td>\n",
       "      <td>46.0</td>\n",
       "      <td>46.0</td>\n",
       "      <td>46.0</td>\n",
       "      <td>46.0</td>\n",
       "      <td>46.0</td>\n",
       "      <td>46.0</td>\n",
       "      <td>450.0</td>\n",
       "    </tr>\n",
       "    <tr>\n",
       "      <th>2</th>\n",
       "      <td>12998</td>\n",
       "      <td>60</td>\n",
       "      <td>22</td>\n",
       "      <td>178</td>\n",
       "      <td>69</td>\n",
       "      <td>1</td>\n",
       "      <td>76.0</td>\n",
       "      <td>75.0</td>\n",
       "      <td>76.0</td>\n",
       "      <td>55.0</td>\n",
       "      <td>...</td>\n",
       "      <td>52.0</td>\n",
       "      <td>52.0</td>\n",
       "      <td>49.0</td>\n",
       "      <td>49.0</td>\n",
       "      <td>49.0</td>\n",
       "      <td>49.0</td>\n",
       "      <td>51.0</td>\n",
       "      <td>51.0</td>\n",
       "      <td>49.0</td>\n",
       "      <td>200.0</td>\n",
       "    </tr>\n",
       "    <tr>\n",
       "      <th>3</th>\n",
       "      <td>16112</td>\n",
       "      <td>69</td>\n",
       "      <td>29</td>\n",
       "      <td>182</td>\n",
       "      <td>73</td>\n",
       "      <td>1</td>\n",
       "      <td>84.0</td>\n",
       "      <td>79.0</td>\n",
       "      <td>88.0</td>\n",
       "      <td>73.0</td>\n",
       "      <td>...</td>\n",
       "      <td>68.0</td>\n",
       "      <td>68.0</td>\n",
       "      <td>66.0</td>\n",
       "      <td>67.0</td>\n",
       "      <td>67.0</td>\n",
       "      <td>67.0</td>\n",
       "      <td>69.0</td>\n",
       "      <td>69.0</td>\n",
       "      <td>65.0</td>\n",
       "      <td>350.0</td>\n",
       "    </tr>\n",
       "    <tr>\n",
       "      <th>4</th>\n",
       "      <td>16502</td>\n",
       "      <td>64</td>\n",
       "      <td>20</td>\n",
       "      <td>170</td>\n",
       "      <td>63</td>\n",
       "      <td>1</td>\n",
       "      <td>81.0</td>\n",
       "      <td>80.0</td>\n",
       "      <td>82.0</td>\n",
       "      <td>68.0</td>\n",
       "      <td>...</td>\n",
       "      <td>63.0</td>\n",
       "      <td>63.0</td>\n",
       "      <td>63.0</td>\n",
       "      <td>61.0</td>\n",
       "      <td>61.0</td>\n",
       "      <td>61.0</td>\n",
       "      <td>63.0</td>\n",
       "      <td>63.0</td>\n",
       "      <td>56.0</td>\n",
       "      <td>200.0</td>\n",
       "    </tr>\n",
       "  </tbody>\n",
       "</table>\n",
       "<p>5 rows × 66 columns</p>\n",
       "</div>"
      ],
      "text/plain": [
       "   player_ID  overall  age  height  weight  intl_rep  pace  pace_acceleration  \\\n",
       "0      20920       68   24     183      79         1  91.0               90.0   \n",
       "1       2996       73   26     183      75         1  72.0               69.0   \n",
       "2      12998       60   22     178      69         1  76.0               75.0   \n",
       "3      16112       69   29     182      73         1  84.0               79.0   \n",
       "4      16502       64   20     170      63         1  81.0               80.0   \n",
       "\n",
       "   pace_sprint_speed  dribbling    ...        rm    lm   cam    cf    rf  \\\n",
       "0               91.0       69.0    ...      67.0  67.0  65.0  67.0  67.0   \n",
       "1               74.0       49.0    ...      48.0  48.0  48.0  46.0  46.0   \n",
       "2               76.0       55.0    ...      52.0  52.0  49.0  49.0  49.0   \n",
       "3               88.0       73.0    ...      68.0  68.0  66.0  67.0  67.0   \n",
       "4               82.0       68.0    ...      63.0  63.0  63.0  61.0  61.0   \n",
       "\n",
       "     lf    rw    lw    st  price_ps4  \n",
       "0  67.0  68.0  68.0  66.0     1000.0  \n",
       "1  46.0  46.0  46.0  46.0      450.0  \n",
       "2  49.0  51.0  51.0  49.0      200.0  \n",
       "3  67.0  69.0  69.0  65.0      350.0  \n",
       "4  61.0  63.0  63.0  56.0      200.0  \n",
       "\n",
       "[5 rows x 66 columns]"
      ]
     },
     "execution_count": 194,
     "metadata": {},
     "output_type": "execute_result"
    }
   ],
   "source": [
    "data_train_num = data_train.select_dtypes(include=['int', 'float'])\n",
    "data_train_num.fillna(data_train_num.mean(), inplace=True)\n",
    "data_train_num.head()"
   ]
  },
  {
   "cell_type": "code",
   "execution_count": 195,
   "metadata": {},
   "outputs": [
    {
     "name": "stdout",
     "output_type": "stream",
     "text": [
      "(18629, 64) (18629,)\n",
      "(14903, 64) (14903,)\n",
      "(3726, 64) (3726,)\n"
     ]
    }
   ],
   "source": [
    "from sklearn.model_selection import train_test_split as tts\n",
    "\n",
    "X = data_train_num.drop(labels=['price_ps4'], axis=1).values[:, 1:]\n",
    "y = data_train_num['price_ps4'].values\n",
    "print(X.shape, y.shape)\n",
    "\n",
    "X_train, X_val, y_train, y_val = tts(X, y, test_size=0.2, random_state=2)\n",
    "print(X_train.shape, y_train.shape)\n",
    "print(X_val.shape, y_val.shape)"
   ]
  },
  {
   "cell_type": "code",
   "execution_count": 196,
   "metadata": {},
   "outputs": [
    {
     "name": "stderr",
     "output_type": "stream",
     "text": [
      "[Parallel(n_jobs=-1)]: Using backend ThreadingBackend with 8 concurrent workers.\n",
      "[Parallel(n_jobs=-1)]: Done  34 tasks      | elapsed:    2.0s\n",
      "[Parallel(n_jobs=-1)]: Done 100 out of 100 | elapsed:    6.0s finished\n"
     ]
    },
    {
     "data": {
      "text/plain": [
       "RandomForestRegressor(bootstrap=True, criterion='mse', max_depth=10,\n",
       "           max_features='auto', max_leaf_nodes=None,\n",
       "           min_impurity_decrease=0.0, min_impurity_split=None,\n",
       "           min_samples_leaf=1, min_samples_split=2,\n",
       "           min_weight_fraction_leaf=0.0, n_estimators=100, n_jobs=-1,\n",
       "           oob_score=False, random_state=None, verbose=1, warm_start=False)"
      ]
     },
     "execution_count": 196,
     "metadata": {},
     "output_type": "execute_result"
    }
   ],
   "source": [
    "from sklearn.ensemble import RandomForestRegressor\n",
    "rf_regressor = RandomForestRegressor(n_estimators=100, max_depth=10, verbose=1, n_jobs=-1)\n",
    "rf_regressor.fit(X_train, y_train)"
   ]
  },
  {
   "cell_type": "code",
   "execution_count": 197,
   "metadata": {},
   "outputs": [
    {
     "name": "stderr",
     "output_type": "stream",
     "text": [
      "[Parallel(n_jobs=8)]: Using backend ThreadingBackend with 8 concurrent workers.\n",
      "[Parallel(n_jobs=8)]: Done  34 tasks      | elapsed:    0.0s\n",
      "[Parallel(n_jobs=8)]: Done 100 out of 100 | elapsed:    0.1s finished\n",
      "[Parallel(n_jobs=8)]: Using backend ThreadingBackend with 8 concurrent workers.\n",
      "[Parallel(n_jobs=8)]: Done  34 tasks      | elapsed:    0.0s\n",
      "[Parallel(n_jobs=8)]: Done 100 out of 100 | elapsed:    0.1s finished\n"
     ]
    },
    {
     "name": "stdout",
     "output_type": "stream",
     "text": [
      "train MSE: 348540141.05857\n",
      "val MSE: 3314125090.866273\n"
     ]
    }
   ],
   "source": [
    "rf_regressor_pred = rf_regressor.predict(X_train)\n",
    "print('train MSE:', mean_squared_error(rf_regressor_pred, y_train))\n",
    "rf_regressor_pred = rf_regressor.predict(X_val)\n",
    "print('val MSE:', mean_squared_error(rf_regressor_pred, y_val))"
   ]
  },
  {
   "cell_type": "code",
   "execution_count": 198,
   "metadata": {},
   "outputs": [
    {
     "name": "stderr",
     "output_type": "stream",
     "text": [
      "[Parallel(n_jobs=8)]: Using backend ThreadingBackend with 8 concurrent workers.\n",
      "[Parallel(n_jobs=8)]: Done  34 tasks      | elapsed:    0.0s\n",
      "[Parallel(n_jobs=8)]: Done 100 out of 100 | elapsed:    0.1s finished\n",
      "[Parallel(n_jobs=8)]: Using backend ThreadingBackend with 8 concurrent workers.\n",
      "[Parallel(n_jobs=8)]: Done  34 tasks      | elapsed:    0.0s\n",
      "[Parallel(n_jobs=8)]: Done 100 out of 100 | elapsed:    0.1s finished\n"
     ]
    }
   ],
   "source": [
    "# Your code here\n",
    "rf_regressor_pred_train = mean_squared_error(rf_regressor.predict(X_train), y_train)\n",
    "rf_regressor_pred_val = mean_squared_error(rf_regressor.predict(X_val), y_val)"
   ]
  },
  {
   "cell_type": "code",
   "execution_count": 199,
   "metadata": {},
   "outputs": [
    {
     "name": "stderr",
     "output_type": "stream",
     "text": [
      "/home/olya/.conda/envs/py37/lib/python3.7/site-packages/pandas/core/generic.py:5434: SettingWithCopyWarning: \n",
      "A value is trying to be set on a copy of a slice from a DataFrame\n",
      "\n",
      "See the caveats in the documentation: http://pandas.pydata.org/pandas-docs/stable/indexing.html#indexing-view-versus-copy\n",
      "  self._update_inplace(new_data)\n"
     ]
    },
    {
     "name": "stdout",
     "output_type": "stream",
     "text": [
      "1341233491.2639506\n"
     ]
    },
    {
     "name": "stderr",
     "output_type": "stream",
     "text": [
      "[Parallel(n_jobs=8)]: Using backend ThreadingBackend with 8 concurrent workers.\n",
      "[Parallel(n_jobs=8)]: Done  34 tasks      | elapsed:    0.0s\n",
      "[Parallel(n_jobs=8)]: Done 100 out of 100 | elapsed:    0.1s finished\n"
     ]
    }
   ],
   "source": [
    "data_test = pd.read_csv('./data/test_with_targets.csv')\n",
    "data_test_num = data_test.select_dtypes(include=['int', 'float'])\n",
    "data_test_num.fillna(data_test_num.mean(), inplace=True)\n",
    "\n",
    "X_test_all = data_test_num.values[:, 1:-1]\n",
    "# print(X_test_all.shape)\n",
    "rf_regressor_pred_test = mean_squared_error(rf_regressor.predict(X_test_all), y_test)\n",
    "print(rf_regressor_pred_test)"
   ]
  },
  {
   "cell_type": "code",
   "execution_count": 200,
   "metadata": {},
   "outputs": [
    {
     "data": {
      "text/plain": [
       "<matplotlib.image.AxesImage at 0x7f450fbecb00>"
      ]
     },
     "execution_count": 200,
     "metadata": {},
     "output_type": "execute_result"
    },
    {
     "data": {
      "image/png": "[encoded data removed]",
      "text/plain": [
       "<Figure size 288x288 with 1 Axes>"
      ]
     },
     "metadata": {
      "needs_background": "light"
     },
     "output_type": "display_data"
    }
   ],
   "source": [
    "# смотрим есть ли коррелирующие признаки\n",
    "plt.matshow(data_train_num.corr())\n"
   ]
  },
  {
   "cell_type": "code",
   "execution_count": 201,
   "metadata": {},
   "outputs": [],
   "source": [
    "# будем удалять признаки с корреляцией > 0.8\n",
    "M = data_train_num.corr()\n",
    "as_matrix = np.array(M)\n",
    "\n",
    "arr_pr =[]\n",
    "for i in range(M.shape[0]):\n",
    "    for j in range(M.shape[1]):\n",
    "        if as_matrix[i,j] > 0.8 and i != j:\n",
    "#             print (data_train_num.columns.values[i], data_train_num.columns.values[j])\n",
    "            arr_pr.append((data_train_num.columns.values[i], data_train_num.columns.values[j]))\n"
   ]
  },
  {
   "cell_type": "code",
   "execution_count": 202,
   "metadata": {},
   "outputs": [
    {
     "name": "stdout",
     "output_type": "stream",
     "text": [
      "['overall', 'pace_acceleration', 'drib_agility', 'dribbling', 'passing', 'cm', 'rm', 'lm', 'cam', 'cf', 'rf', 'lf', 'rw', 'lw', 'st', 'drib_ball_control', 'shoot_positioning', 'shoot_finishing', 'shoot_shot_power', 'shoot_long_shots', 'shoot_volleys', 'pass_crossing', 'pass_short', 'pass_curve', 'drib_dribbling', 'shoot_penalties', 'pass_free_kick', 'pass_long', 'defending', 'def_marking', 'def_stand_tackle', 'def_slid_tackle', 'cb', 'rb', 'lb', 'cdm', 'def_interceptions', 'physicality', 'gk_diving', 'gk_handling', 'gk_positoning', 'gk_reflexes', 'rwb', 'lwb', 'shooting']\n"
     ]
    }
   ],
   "source": [
    "# составим список имен столбцов, которые коррелируют с другими \n",
    "\n",
    "first_to_drop = []\n",
    "for i in range(len(arr_pr)):\n",
    "    if arr_pr[i][0] in first_to_drop:\n",
    "        if arr_pr[i][1] in first_to_drop:\n",
    "            pass\n",
    "        else:\n",
    "            first_to_drop.append(arr_pr[i][1])\n",
    "    else:\n",
    "        if arr_pr[i][1] in first_to_drop:\n",
    "            pass\n",
    "        else:\n",
    "            first_to_drop.append(arr_pr[i][0])      \n",
    "print(first_to_drop)"
   ]
  },
  {
   "cell_type": "code",
   "execution_count": 203,
   "metadata": {},
   "outputs": [
    {
     "data": {
      "text/plain": [
       "<matplotlib.axes._subplots.AxesSubplot at 0x7f450f9ee1d0>"
      ]
     },
     "execution_count": 203,
     "metadata": {},
     "output_type": "execute_result"
    },
    {
     "data": {
      "image/png": "[encoded data removed]",
      "text/plain": [
       "<Figure size 432x288 with 2 Axes>"
      ]
     },
     "metadata": {
      "needs_background": "light"
     },
     "output_type": "display_data"
    }
   ],
   "source": [
    "import copy\n",
    "data_train_new = copy.copy(data_train_num)\n",
    "\n",
    "for i in range(len(first_to_drop)):\n",
    "    del data_train_new[first_to_drop[i]]\n",
    "    \n",
    "# смотрим еще раз на матрицу корреляций. \n",
    "import seaborn as sns\n",
    "corr = data_train_new.corr()\n",
    "sns.heatmap(corr, \n",
    "            xticklabels=corr.columns.values,\n",
    "            yticklabels=corr.columns.values)"
   ]
  },
  {
   "cell_type": "code",
   "execution_count": 204,
   "metadata": {},
   "outputs": [
    {
     "name": "stdout",
     "output_type": "stream",
     "text": [
      "(18629, 19) (18629,)\n",
      "(14903, 19) (14903,)\n",
      "(3726, 19) (3726,)\n"
     ]
    }
   ],
   "source": [
    "# Данные для обучения\n",
    "X_new = data_train_new.drop(labels=['price_ps4'], axis=1).values[:, 1:]\n",
    "y = data_train_new['price_ps4'].values\n",
    "print(X_new.shape, y.shape)\n",
    "\n",
    "X_train, X_val, y_train, y_val = tts(X_new, y, test_size=0.2, random_state=2)\n",
    "print(X_train.shape, y_train.shape)\n",
    "print(X_val.shape, y_val.shape)"
   ]
  },
  {
   "cell_type": "code",
   "execution_count": 205,
   "metadata": {},
   "outputs": [],
   "source": [
    "data_train_new.to_csv(\"data/train_feature.csv\")"
   ]
  },
  {
   "cell_type": "code",
   "execution_count": 206,
   "metadata": {},
   "outputs": [
    {
     "data": {
      "text/html": [
       "<div>\n",
       "<style scoped>\n",
       "    .dataframe tbody tr th:only-of-type {\n",
       "        vertical-align: middle;\n",
       "    }\n",
       "\n",
       "    .dataframe tbody tr th {\n",
       "        vertical-align: top;\n",
       "    }\n",
       "\n",
       "    .dataframe thead th {\n",
       "        text-align: right;\n",
       "    }\n",
       "</style>\n",
       "<table border=\"1\" class=\"dataframe\">\n",
       "  <thead>\n",
       "    <tr style=\"text-align: right;\">\n",
       "      <th></th>\n",
       "      <th>player_ID</th>\n",
       "      <th>player_name</th>\n",
       "      <th>player_extended_name</th>\n",
       "      <th>quality</th>\n",
       "      <th>revision</th>\n",
       "      <th>origin</th>\n",
       "      <th>overall</th>\n",
       "      <th>club</th>\n",
       "      <th>league</th>\n",
       "      <th>nationality</th>\n",
       "      <th>...</th>\n",
       "      <th>cam</th>\n",
       "      <th>cf</th>\n",
       "      <th>rf</th>\n",
       "      <th>lf</th>\n",
       "      <th>rw</th>\n",
       "      <th>lw</th>\n",
       "      <th>st</th>\n",
       "      <th>price_ps4</th>\n",
       "      <th>traits</th>\n",
       "      <th>specialties</th>\n",
       "    </tr>\n",
       "  </thead>\n",
       "  <tbody>\n",
       "    <tr>\n",
       "      <th>0</th>\n",
       "      <td>9991</td>\n",
       "      <td>Pálsson</td>\n",
       "      <td>Victor Pálsson</td>\n",
       "      <td>Bronze - Rare</td>\n",
       "      <td>Normal</td>\n",
       "      <td>NaN</td>\n",
       "      <td>64</td>\n",
       "      <td>FC Zürich</td>\n",
       "      <td>Raiffeisen Super League</td>\n",
       "      <td>Iceland</td>\n",
       "      <td>...</td>\n",
       "      <td>60.0</td>\n",
       "      <td>59.0</td>\n",
       "      <td>59.0</td>\n",
       "      <td>59.0</td>\n",
       "      <td>58.0</td>\n",
       "      <td>58.0</td>\n",
       "      <td>60.0</td>\n",
       "      <td>200.0</td>\n",
       "      <td>Dives Into Tackles</td>\n",
       "      <td>NaN</td>\n",
       "    </tr>\n",
       "    <tr>\n",
       "      <th>1</th>\n",
       "      <td>13037</td>\n",
       "      <td>Palomeque</td>\n",
       "      <td>Ezequiel Palomeque</td>\n",
       "      <td>Bronze - Rare</td>\n",
       "      <td>Normal</td>\n",
       "      <td>NaN</td>\n",
       "      <td>60</td>\n",
       "      <td>Atlético Nacional</td>\n",
       "      <td>Liga Dimayor</td>\n",
       "      <td>Colombia</td>\n",
       "      <td>...</td>\n",
       "      <td>32.0</td>\n",
       "      <td>33.0</td>\n",
       "      <td>33.0</td>\n",
       "      <td>33.0</td>\n",
       "      <td>32.0</td>\n",
       "      <td>32.0</td>\n",
       "      <td>38.0</td>\n",
       "      <td>500.0</td>\n",
       "      <td>NaN</td>\n",
       "      <td>Strength</td>\n",
       "    </tr>\n",
       "    <tr>\n",
       "      <th>2</th>\n",
       "      <td>1254</td>\n",
       "      <td>Partey</td>\n",
       "      <td>Thomas Partey</td>\n",
       "      <td>Gold - Rare</td>\n",
       "      <td>Normal</td>\n",
       "      <td>NaN</td>\n",
       "      <td>77</td>\n",
       "      <td>Atlético Madrid</td>\n",
       "      <td>LaLiga Santander</td>\n",
       "      <td>Ghana</td>\n",
       "      <td>...</td>\n",
       "      <td>70.0</td>\n",
       "      <td>69.0</td>\n",
       "      <td>69.0</td>\n",
       "      <td>69.0</td>\n",
       "      <td>69.0</td>\n",
       "      <td>69.0</td>\n",
       "      <td>68.0</td>\n",
       "      <td>900.0</td>\n",
       "      <td>Dives Into Tackles</td>\n",
       "      <td>NaN</td>\n",
       "    </tr>\n",
       "    <tr>\n",
       "      <th>3</th>\n",
       "      <td>19697</td>\n",
       "      <td>Mirante</td>\n",
       "      <td>Antonio Mirante</td>\n",
       "      <td>Gold</td>\n",
       "      <td>Normal</td>\n",
       "      <td>Transfers</td>\n",
       "      <td>80</td>\n",
       "      <td>Roma</td>\n",
       "      <td>Calcio A</td>\n",
       "      <td>Italy</td>\n",
       "      <td>...</td>\n",
       "      <td>NaN</td>\n",
       "      <td>NaN</td>\n",
       "      <td>NaN</td>\n",
       "      <td>NaN</td>\n",
       "      <td>NaN</td>\n",
       "      <td>NaN</td>\n",
       "      <td>NaN</td>\n",
       "      <td>450.0</td>\n",
       "      <td>NaN</td>\n",
       "      <td>NaN</td>\n",
       "    </tr>\n",
       "    <tr>\n",
       "      <th>4</th>\n",
       "      <td>12390</td>\n",
       "      <td>Allen</td>\n",
       "      <td>Jordan Allen</td>\n",
       "      <td>Bronze</td>\n",
       "      <td>Normal</td>\n",
       "      <td>NaN</td>\n",
       "      <td>61</td>\n",
       "      <td>Real Salt Lake</td>\n",
       "      <td>Major League Soccer</td>\n",
       "      <td>United States</td>\n",
       "      <td>...</td>\n",
       "      <td>61.0</td>\n",
       "      <td>60.0</td>\n",
       "      <td>60.0</td>\n",
       "      <td>60.0</td>\n",
       "      <td>61.0</td>\n",
       "      <td>61.0</td>\n",
       "      <td>58.0</td>\n",
       "      <td>200.0</td>\n",
       "      <td>NaN</td>\n",
       "      <td>NaN</td>\n",
       "    </tr>\n",
       "  </tbody>\n",
       "</table>\n",
       "<p>5 rows × 82 columns</p>\n",
       "</div>"
      ],
      "text/plain": [
       "   player_ID player_name player_extended_name        quality revision  \\\n",
       "0       9991     Pálsson       Victor Pálsson  Bronze - Rare   Normal   \n",
       "1      13037   Palomeque   Ezequiel Palomeque  Bronze - Rare   Normal   \n",
       "2       1254      Partey        Thomas Partey    Gold - Rare   Normal   \n",
       "3      19697     Mirante      Antonio Mirante           Gold   Normal   \n",
       "4      12390       Allen         Jordan Allen         Bronze   Normal   \n",
       "\n",
       "      origin  overall               club                   league  \\\n",
       "0        NaN       64          FC Zürich  Raiffeisen Super League   \n",
       "1        NaN       60  Atlético Nacional             Liga Dimayor   \n",
       "2        NaN       77    Atlético Madrid         LaLiga Santander   \n",
       "3  Transfers       80               Roma                 Calcio A   \n",
       "4        NaN       61     Real Salt Lake      Major League Soccer   \n",
       "\n",
       "     nationality     ...        cam    cf    rf    lf    rw    lw    st  \\\n",
       "0        Iceland     ...       60.0  59.0  59.0  59.0  58.0  58.0  60.0   \n",
       "1       Colombia     ...       32.0  33.0  33.0  33.0  32.0  32.0  38.0   \n",
       "2          Ghana     ...       70.0  69.0  69.0  69.0  69.0  69.0  68.0   \n",
       "3          Italy     ...        NaN   NaN   NaN   NaN   NaN   NaN   NaN   \n",
       "4  United States     ...       61.0  60.0  60.0  60.0  61.0  61.0  58.0   \n",
       "\n",
       "   price_ps4              traits  specialties  \n",
       "0      200.0  Dives Into Tackles          NaN  \n",
       "1      500.0                 NaN     Strength  \n",
       "2      900.0  Dives Into Tackles          NaN  \n",
       "3      450.0                 NaN          NaN  \n",
       "4      200.0                 NaN          NaN  \n",
       "\n",
       "[5 rows x 82 columns]"
      ]
     },
     "execution_count": 206,
     "metadata": {},
     "output_type": "execute_result"
    }
   ],
   "source": [
    "data_test = pd.read_csv('./data/test_with_targets.csv')\n",
    "data_test.head()"
   ]
  },
  {
   "cell_type": "code",
   "execution_count": null,
   "metadata": {},
   "outputs": [],
   "source": []
  },
  {
   "cell_type": "markdown",
   "metadata": {},
   "source": [
    "## XGBoost"
   ]
  },
  {
   "cell_type": "code",
   "execution_count": 207,
   "metadata": {},
   "outputs": [],
   "source": [
    "import xgboost"
   ]
  },
  {
   "cell_type": "code",
   "execution_count": 208,
   "metadata": {},
   "outputs": [],
   "source": [
    "def plot_metric(param_name, param_values, train_values, val_values, log_x=False):\n",
    "    plt.figure(figsize=(16, 5))\n",
    "    plt.plot(param_values, train_values, 'o-', label='train')\n",
    "    plt.plot(param_values, val_values, 'o-', label='val')\n",
    "\n",
    "    plt.xlabel(param_name)\n",
    "    if log_x:\n",
    "        plt.xscale('log')\n",
    "    plt.ylabel('metric')\n",
    "    plt.legend(loc='best')\n",
    "    plt.title(param_name)\n",
    "    plt.show()"
   ]
  },
  {
   "cell_type": "code",
   "execution_count": 209,
   "metadata": {},
   "outputs": [],
   "source": [
    "# xgb = xgboost.XGBRegressor(n_estimators=2000, learning_rate=0.008, n_jobs=-1, max_depth=5)\n",
    "xgb = xgboost.XGBRegressor(n_estimators=5000, learning_rate=0.05, n_jobs=4, max_depth=6)"
   ]
  },
  {
   "cell_type": "code",
   "execution_count": 210,
   "metadata": {
    "scrolled": false
   },
   "outputs": [
    {
     "name": "stdout",
     "output_type": "stream",
     "text": [
      "CPU times: user 10 s, sys: 78.1 ms, total: 10.1 s\n",
      "Wall time: 2.57 s\n"
     ]
    },
    {
     "data": {
      "text/plain": [
       "XGBRegressor(base_score=0.5, booster='gbtree', colsample_bylevel=1,\n",
       "       colsample_bytree=1, gamma=0, learning_rate=0.05, max_delta_step=0,\n",
       "       max_depth=6, min_child_weight=1, missing=None, n_estimators=5000,\n",
       "       n_jobs=4, nthread=None, objective='reg:linear', random_state=0,\n",
       "       reg_alpha=0, reg_lambda=1, scale_pos_weight=1, seed=None,\n",
       "       silent=True, subsample=1)"
      ]
     },
     "execution_count": 210,
     "metadata": {},
     "output_type": "execute_result"
    }
   ],
   "source": [
    "%%time\n",
    "xgb.fit(X_train, y_train, eval_set=[(X_train, y_train), (X_val, y_val)], eval_metric='rmse', verbose=False, early_stopping_rounds=5)"
   ]
  },
  {
   "cell_type": "code",
   "execution_count": 211,
   "metadata": {},
   "outputs": [
    {
     "data": {
      "image/png": "[encoded data removed]",
      "text/plain": [
       "<Figure size 1152x360 with 1 Axes>"
      ]
     },
     "metadata": {
      "needs_background": "light"
     },
     "output_type": "display_data"
    }
   ],
   "source": [
    "plot_metric(param_name='n_estimators', param_values=range(len(xgb.evals_result_['validation_0']['rmse'])), \n",
    "            train_values=xgb.evals_result_['validation_0']['rmse'], \n",
    "            val_values=xgb.evals_result_['validation_1']['rmse'])"
   ]
  },
  {
   "cell_type": "code",
   "execution_count": 212,
   "metadata": {},
   "outputs": [
    {
     "name": "stdout",
     "output_type": "stream",
     "text": [
      "0.15228336594367822\n",
      "0.36097221180561945\n"
     ]
    }
   ],
   "source": [
    "xgb_mse_tr = mean_squared_error(xgb.predict(X_train), y_train)\n",
    "xgb_mse_val = mean_squared_error(xgb.predict(X_val), y_val)\n",
    "\n",
    "print(xgb_mse_tr / rf_regressor_pred_train)\n",
    "print(xgb_mse_val / rf_regressor_pred_val)"
   ]
  },
  {
   "cell_type": "markdown",
   "metadata": {},
   "source": [
    "## Predict on test"
   ]
  },
  {
   "cell_type": "markdown",
   "metadata": {},
   "source": [
    "Predict on test set"
   ]
  },
  {
   "cell_type": "code",
   "execution_count": 213,
   "metadata": {},
   "outputs": [
    {
     "name": "stderr",
     "output_type": "stream",
     "text": [
      "/home/olya/.conda/envs/py37/lib/python3.7/site-packages/pandas/core/generic.py:5434: SettingWithCopyWarning: \n",
      "A value is trying to be set on a copy of a slice from a DataFrame\n",
      "\n",
      "See the caveats in the documentation: http://pandas.pydata.org/pandas-docs/stable/indexing.html#indexing-view-versus-copy\n",
      "  self._update_inplace(new_data)\n"
     ]
    }
   ],
   "source": [
    "data_test = pd.read_csv('./test_with_targets.csv')\n",
    "data_test_num = data_test.select_dtypes(include=['int', 'float'])\n",
    "# data_test_num.drop(labels=['price_ps4'], axis=1)\n",
    "data_test_num.fillna(data_test_num.mean(), inplace=True)\n",
    "for i in range(len(first_to_drop)):\n",
    "    del data_test_num[first_to_drop[i]]\n",
    "    \n",
    "X_test = data_test_num.values[:, 1:-1]\n",
    "y_test = data_test_num.values[:, -1:]"
   ]
  },
  {
   "cell_type": "code",
   "execution_count": 214,
   "metadata": {},
   "outputs": [],
   "source": [
    "pred_test = xgb.predict(X_test)"
   ]
  },
  {
   "cell_type": "code",
   "execution_count": 215,
   "metadata": {},
   "outputs": [
    {
     "name": "stdout",
     "output_type": "stream",
     "text": [
      "1187094635.492988\n"
     ]
    }
   ],
   "source": [
    "mse_test = mean_squared_error(pred_test, y_test)\n",
    "print(mse_test)"
   ]
  },
  {
   "cell_type": "code",
   "execution_count": 216,
   "metadata": {},
   "outputs": [
    {
     "data": {
      "text/plain": [
       "0.8850767917928256"
      ]
     },
     "execution_count": 216,
     "metadata": {},
     "output_type": "execute_result"
    }
   ],
   "source": [
    "mse_test / rf_regressor_pred_test"
   ]
  },
  {
   "cell_type": "code",
   "execution_count": 217,
   "metadata": {},
   "outputs": [
    {
     "name": "stdout",
     "output_type": "stream",
     "text": [
      "1341233491.2639506\n"
     ]
    }
   ],
   "source": [
    "print(rf_regressor_pred_test)"
   ]
  },
  {
   "cell_type": "code",
   "execution_count": 218,
   "metadata": {},
   "outputs": [
    {
     "data": {
      "text/plain": [
       "0.8850767917928256"
      ]
     },
     "execution_count": 218,
     "metadata": {},
     "output_type": "execute_result"
    }
   ],
   "source": [
    "mse_test / rf_regressor_pred_test"
   ]
  },
  {
   "cell_type": "code",
   "execution_count": null,
   "metadata": {},
   "outputs": [],
   "source": []
  }
 ],
 "metadata": {
  "kernelspec": {
   "display_name": "IPython (Python 3)",
   "language": "python",
   "name": "python3"
  },
  "language_info": {
   "codemirror_mode": {
    "name": "ipython",
    "version": 3
   },
   "file_extension": ".py",
   "mimetype": "text/x-python",
   "name": "python",
   "nbconvert_exporter": "python",
   "pygments_lexer": "ipython3",
   "version": "3.7.0"
  }
 },
 "nbformat": 4,
 "nbformat_minor": 2
}
